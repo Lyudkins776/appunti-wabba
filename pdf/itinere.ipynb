{
 "cells": [
  {
   "cell_type": "code",
   "execution_count": 50,
   "id": "dfadf54e-94aa-455c-afcf-4ea0a893cc76",
   "metadata": {},
   "outputs": [
    {
     "name": "stdin",
     "output_type": "stream",
     "text": [
      "inserire dei numeri separati da una virgola:  1, 2, 3 , 4\n"
     ]
    },
    {
     "data": {
      "text/plain": [
       "2.5"
      ]
     },
     "execution_count": 50,
     "metadata": {},
     "output_type": "execute_result"
    }
   ],
   "source": [
    "#La mediana di un insieme di valori `e il valore che divide l’insieme (ordinato in senso crescente) in due\n",
    "#sottinsiemi di ampiezza uguale. Se il numero di valori `e dispari, la mediana `e l’elemento centrale (se i\n",
    "#valori sono 1,2,3,4,5 la mediana `e 3) mentre se il numero di valori `e pari la mediana `e la media dei due\n",
    "#valori centrali (se i valori sono 1,2,3,4 la mediana `e 2.5). Scrivere un programma che prenda in input una\n",
    "#lista di numeri e restituisca la mediana.\n",
    "\n",
    "lista = input('inserire dei numeri separati da una virgola: ').split(',')\n",
    "lista = [int(x) for x in lista]\n",
    "lista.sort()\n",
    "lunghezza = len(lista)\n",
    "\n",
    "if lunghezza % 2 != 0:\n",
    "    mediana = lista[lunghezza // 2]\n",
    "else:\n",
    "    somma = lista[lunghezza //2 -1] + lista[lunghezza // 2]\n",
    "    mediana = somma/2\n",
    "\n",
    "mediana"
   ]
  },
  {
   "cell_type": "code",
   "execution_count": 24,
   "id": "506a7515-8f4a-4b3a-ba01-fbb8aece99ee",
   "metadata": {},
   "outputs": [
    {
     "name": "stdin",
     "output_type": "stream",
     "text": [
      "inserisci dei numeri:  8 -5 62 8\n",
      "inserisci dei numeri:  62 43 8\n"
     ]
    },
    {
     "data": {
      "text/plain": [
       "{'8': (2, 1), '62': (1, 1)}"
      ]
     },
     "execution_count": 24,
     "metadata": {},
     "output_type": "execute_result"
    }
   ],
   "source": [
    "#Scrivere un programma che chieda all’utente di inserire due liste e crei un dizionario dove le chiavi siano\n",
    "#gli elementi in comune tra le due liste e i valori siano tuple di due elementi, ovvero le occorrenze della\n",
    "#chiave nella prima e nella seconda lista. Ad esempio, se le due liste sono [8,-5,62,8] e [62,43,8] il dizionario\n",
    "#sar`a {8: (2,1), 62: (1,1)}\n",
    "\n",
    "l1 = input('inserisci dei numeri: ').split()\n",
    "l2 = input('inserisci dei numeri: ').split()\n",
    "\n",
    "dizionario = {}\n",
    "\n",
    "for i in set(l1).intersection(set(l2)):\n",
    "    conta1 = l1.count(i)\n",
    "    conta2 = l2.count(i)\n",
    "    dizionario[i] = (conta1, conta2)\n",
    "\n",
    "dizionario"
   ]
  },
  {
   "cell_type": "code",
   "execution_count": 76,
   "id": "9ae3570a-6a88-465a-bdb9-85206dd00a4c",
   "metadata": {},
   "outputs": [
    {
     "name": "stdin",
     "output_type": "stream",
     "text": [
      "quante cifre contiene il numero:  3\n"
     ]
    },
    {
     "data": {
      "text/plain": [
       "[153, 370, 371, 407]"
      ]
     },
     "execution_count": 76,
     "metadata": {},
     "output_type": "execute_result"
    }
   ],
   "source": [
    "#Un numero di Armstrong `e un numero intero positivo di k cifre tale che le sue cifre, elevate a k e\n",
    "#sommate, restituiscono il numero stesso. Ad esempio, 153 `e un numero di Armstrong di k = 3 cifre perch´e\n",
    "#13 + 53 + 33 = 1 + 125 + 27 = 153. I numeri naturali di una cifra sono banalmente numeri di Armstrong.\n",
    "#Scrivere un programma che chieda in input un numero intero k > 1 (accertarsi che la condizione sia\n",
    "#soddisfatta) e restituisca una lista contenente i numeri di Armstrong di lunghezza k.\n",
    "\n",
    "k = int(input('quante cifre contiene il numero: '))\n",
    "\n",
    "if k < 1:\n",
    "    print('errore')\n",
    "elif k ==1:\n",
    "    print('tutti i numeri a una cifra sono numeri di armstrong perché n**1 restituisce n')    \n",
    "else:\n",
    "    armstrong = []\n",
    "    for i in range(10**(k-1), 10**k):\n",
    "        if sum(int(digit)**k for digit in str(i)) == i:\n",
    "            armstrong.append(i)\n",
    "            \n",
    "armstrong  "
   ]
  },
  {
   "cell_type": "code",
   "execution_count": 122,
   "id": "7944ef15-d1ef-4cd8-a8f5-81fa5941da13",
   "metadata": {},
   "outputs": [
    {
     "name": "stdin",
     "output_type": "stream",
     "text": [
      "quante cifre contiene il numero:  4\n"
     ]
    },
    {
     "data": {
      "text/plain": [
       "[2025, 3025, 9801]"
      ]
     },
     "execution_count": 122,
     "metadata": {},
     "output_type": "execute_result"
    }
   ],
   "source": [
    "#numeri di Kraprekar\n",
    "\n",
    "k = int(input('quante cifre contiene il numero: '))\n",
    "\n",
    "if k <= 0:\n",
    "    print('errore')\n",
    "else:\n",
    "    kraprekar = []\n",
    "    for i in range(10**(k-1), 10**k):\n",
    "        lunghezza = len(str(i))\n",
    "        str_i = str(i)\n",
    "        sinistra = str_i[:lunghezza//2]\n",
    "        destra = str_i[lunghezza//2:]\n",
    "        somma = int(sinistra or '0')+int(destra or '0')\n",
    "        \n",
    "        if somma**2 == i:\n",
    "            kraprekar.append(i)\n",
    "\n",
    "kraprekar"
   ]
  },
  {
   "cell_type": "code",
   "execution_count": 138,
   "id": "40bbaab3-5ba1-42fb-af44-3846e5b1a860",
   "metadata": {},
   "outputs": [
    {
     "name": "stdin",
     "output_type": "stream",
     "text": [
      "inserire delle parole:  antracite acqua biscotto\n"
     ]
    },
    {
     "data": {
      "text/plain": [
       "[9, 5, 8]"
      ]
     },
     "execution_count": 138,
     "metadata": {},
     "output_type": "execute_result"
    }
   ],
   "source": [
    "l1 = input('inserire delle parole: ').split()\n",
    "\n",
    "l2 = [len(word) for word in l1]\n",
    "l2\n",
    "     "
   ]
  },
  {
   "cell_type": "code",
   "execution_count": 154,
   "id": "5570126b-868e-4de5-9c53-3b41d5182665",
   "metadata": {},
   "outputs": [
    {
     "name": "stdin",
     "output_type": "stream",
     "text": [
      "inserire dei numeri:  2 3 4 5 2 3 1\n"
     ]
    },
    {
     "name": "stdout",
     "output_type": "stream",
     "text": [
      "{'3', '5', '2', '4', '1'}\n"
     ]
    }
   ],
   "source": [
    "numeri = input('inserire dei numeri: ').split()\n",
    "\n",
    "insieme_a = set(numeri)\n",
    "print(insieme_a)\n"
   ]
  },
  {
   "cell_type": "code",
   "execution_count": 185,
   "id": "39baf83b-f212-42d0-a69f-63a0fff71c24",
   "metadata": {},
   "outputs": [
    {
     "name": "stdin",
     "output_type": "stream",
     "text": [
      "inserire un numero:  -3\n"
     ]
    },
    {
     "data": {
      "text/plain": [
       "[-1, 1, 3, 5, 7]"
      ]
     },
     "execution_count": 185,
     "metadata": {},
     "output_type": "execute_result"
    }
   ],
   "source": [
    "#scrivere un programma che prenda in input un numero e restituisca i precedenti nove numeri pari se è pari\n",
    "#e i successivi cinque numeri dispari se è dispari\n",
    "\n",
    "n = int(input('inserire un numero: '))\n",
    "lista = []\n",
    "\n",
    "if n % 2 == 0:\n",
    "    for i in range(n-18, n):\n",
    "        if i % 2 == 0:\n",
    "            pari = i\n",
    "            lista.append(pari)\n",
    "else:\n",
    "    for j in range(n+1, n+11):\n",
    "        if j % 2 != 0:\n",
    "            dispari = j\n",
    "            lista.append(dispari)\n",
    "\n",
    "lista     "
   ]
  },
  {
   "cell_type": "code",
   "execution_count": 213,
   "id": "c88b852f-43dd-4487-8376-60e4ccab29da",
   "metadata": {},
   "outputs": [
    {
     "name": "stdin",
     "output_type": "stream",
     "text": [
      "inserire un numero:  -3\n",
      "inserire un numero:  -3\n"
     ]
    },
    {
     "name": "stdout",
     "output_type": "stream",
     "text": [
      "il prodotto sarà positivo\n"
     ]
    }
   ],
   "source": [
    "#dati in input due numeri reali e valutare se il loro prodotto sarà positivo, negativo o nullo\n",
    "\n",
    "n1 = float(input('inserire un numero: '))\n",
    "n2 = float(input('inserire un numero: '))\n",
    "\n",
    "if n1 < 0 and n2 < 0:\n",
    "    print('il prodotto sarà positivo')\n",
    "elif n1 > 0 and n2 > 0:\n",
    "    print('il prodotto sarà positivo')\n",
    "elif n1 < 0 or n2 < 0:\n",
    "    print('il prodotto sarà negativo')\n",
    "else:\n",
    "    print('il prodotto è nullo')\n",
    "\n"
   ]
  },
  {
   "cell_type": "code",
   "execution_count": 247,
   "id": "61b5f32f-dd85-4b70-8d93-2f006b9cfc37",
   "metadata": {},
   "outputs": [
    {
     "name": "stdin",
     "output_type": "stream",
     "text": [
      "inserire un numero:  9\n"
     ]
    },
    {
     "name": "stdout",
     "output_type": "stream",
     "text": [
      "il numero è primo\n"
     ]
    }
   ],
   "source": [
    "#determinare se un numero intero in input è un numero primo\n",
    "\n",
    "n = int(input('inserire un numero: '))\n",
    "\n",
    "if n < 2:\n",
    "    print(f'{n} non è un numero primo')\n",
    "elif n >= 2:\n",
    "    for i in range(2, n//2+1):\n",
    "        if (n % i) == 0:\n",
    "            primo = False\n",
    "        else:\n",
    "            primo = True\n",
    "\n",
    "if primo == True:\n",
    "    print('il numero è primo')\n",
    "else:\n",
    "    print('il numero non è primo')"
   ]
  },
  {
   "cell_type": "code",
   "execution_count": 253,
   "id": "0fdade7f-cad6-4a5a-90f1-f04d80e52712",
   "metadata": {},
   "outputs": [
    {
     "name": "stdin",
     "output_type": "stream",
     "text": [
      "inserire un numero:  4\n"
     ]
    },
    {
     "data": {
      "text/plain": [
       "['Dispari', 'Pari', 'Dispari', 'Pari']"
      ]
     },
     "execution_count": 253,
     "metadata": {},
     "output_type": "execute_result"
    }
   ],
   "source": [
    "n = int(input('inserire un numero: '))\n",
    "\n",
    "s = ['Pari' if i%2 == 0 else \"Dispari\" for i in range(1, n+1)]\n",
    "s"
   ]
  },
  {
   "cell_type": "code",
   "execution_count": 263,
   "id": "3e6f43bf-8b20-46db-b5b9-ed9363e40dd6",
   "metadata": {},
   "outputs": [
    {
     "name": "stdin",
     "output_type": "stream",
     "text": [
      "inserire un numero intero positivo:  101\n"
     ]
    },
    {
     "data": {
      "text/plain": [
       "[0, 1, 1, 2, 3, 5, 8, 13, 21, 34, 55, 89]"
      ]
     },
     "execution_count": 263,
     "metadata": {},
     "output_type": "execute_result"
    }
   ],
   "source": [
    "#Fibonacci\n",
    "n = int(input('inserire un numero intero positivo: '))\n",
    "\n",
    "if n < 0:\n",
    "    print('errore')\n",
    "else:\n",
    "    fib = []\n",
    "    a, b = 0, 1\n",
    "    while a <= n:\n",
    "        fib.append(a)\n",
    "        a, b = b, a+b\n",
    "        if n == a+b:\n",
    "            fib.append(a, b)\n",
    "fib"
   ]
  },
  {
   "cell_type": "code",
   "execution_count": 291,
   "id": "07ed16f8-b533-4502-b5d0-89d780a84620",
   "metadata": {},
   "outputs": [
    {
     "name": "stdin",
     "output_type": "stream",
     "text": [
      "inserire delle parole separate da virgole:  maurizio , torta\n"
     ]
    },
    {
     "name": "stdout",
     "output_type": "stream",
     "text": [
      "maurizio maurizio maurizio maurizio maurizio maurizio maurizio maurizio maurizio  torta torta torta torta torta torta"
     ]
    }
   ],
   "source": [
    "s = input('inserire delle parole separate da virgole: ').split(',')\n",
    "s1 = []\n",
    "for word in s:\n",
    "    l = len(word)\n",
    "    conta = 0\n",
    "    while conta < l:\n",
    "        print(word, end = \"\")\n",
    "        conta += 1"
   ]
  },
  {
   "cell_type": "code",
   "execution_count": 301,
   "id": "96956191-239d-4405-9a0b-dfcc8c41fb80",
   "metadata": {},
   "outputs": [
    {
     "name": "stdin",
     "output_type": "stream",
     "text": [
      "inserisci un numero:  10\n"
     ]
    },
    {
     "data": {
      "text/plain": [
       "[(0, 10), (1, 9), (2, 8), (3, 7), (4, 6), (5, 5)]"
      ]
     },
     "execution_count": 301,
     "metadata": {},
     "output_type": "execute_result"
    }
   ],
   "source": [
    "n = int(input('inserisci un numero: '))\n",
    "lista = []\n",
    "\n",
    "for i in range(0, n+1):\n",
    "    for j in range(i, n+1):\n",
    "        if(i+j) == n:\n",
    "            lista.append((i, j))\n",
    "\n",
    "lista     "
   ]
  },
  {
   "cell_type": "code",
   "execution_count": 307,
   "id": "21c006d0-654e-4580-8d2b-cca71d838b7e",
   "metadata": {},
   "outputs": [
    {
     "name": "stdin",
     "output_type": "stream",
     "text": [
      "inserire dei numeri:  3 2 4 5 3\n"
     ]
    },
    {
     "data": {
      "text/plain": [
       "[(3, 27), (2, 8), (4, 64), (5, 125), (3, 27)]"
      ]
     },
     "execution_count": 307,
     "metadata": {},
     "output_type": "execute_result"
    }
   ],
   "source": [
    "#con list comprehension\n",
    "n = input('inserire dei numeri: ').split()\n",
    "n = [int(x) for x in n]\n",
    "\n",
    "tup = [(i, i**3) for i in n]\n",
    "tup"
   ]
  },
  {
   "cell_type": "code",
   "execution_count": 309,
   "id": "091a1555-740c-4fd7-83db-adb0ad6419b5",
   "metadata": {},
   "outputs": [
    {
     "name": "stdin",
     "output_type": "stream",
     "text": [
      "inserire dei numeri:  3 2 4 5 3\n"
     ]
    },
    {
     "data": {
      "text/plain": [
       "[(3, 27), (2, 8), (4, 64), (5, 125), (3, 27)]"
      ]
     },
     "execution_count": 309,
     "metadata": {},
     "output_type": "execute_result"
    }
   ],
   "source": [
    "#con il for\n",
    "n = input('inserire dei numeri: ').split()\n",
    "n = [int(x) for x in n]\n",
    "n1 = []\n",
    "\n",
    "for i in n:\n",
    "    n1.append((i, i**3))\n",
    "n1   "
   ]
  },
  {
   "cell_type": "code",
   "execution_count": 321,
   "id": "d59ef581-c21e-4e5b-abe7-7b984022a8bb",
   "metadata": {},
   "outputs": [
    {
     "name": "stdin",
     "output_type": "stream",
     "text": [
      "inserisci delle parole:  rosa giallo rosa\n"
     ]
    },
    {
     "name": "stdout",
     "output_type": "stream",
     "text": [
      "{'rosa': 2, 'giallo': 1}\n"
     ]
    }
   ],
   "source": [
    "s = input('inserisci delle parole: ').split()\n",
    "dizionario = {}\n",
    "for word in s:\n",
    "    if word in dizionario:\n",
    "        dizionario[word] += 1\n",
    "    else:\n",
    "        dizionario[word] = 1\n",
    "\n",
    "print(dizionario)"
   ]
  },
  {
   "cell_type": "code",
   "execution_count": null,
   "id": "dfa90101-b3c8-4f91-8cd9-4ad34e76b043",
   "metadata": {},
   "outputs": [],
   "source": [
    "n = int(input('inserire un numero: '))\n",
    "l = [(i, j) for i, j in l if i+j == n]\n",
    "l"
   ]
  },
  {
   "cell_type": "code",
   "execution_count": 10,
   "id": "7cafc321-6d16-4841-859b-5c55f6f8adeb",
   "metadata": {},
   "outputs": [
    {
     "name": "stdin",
     "output_type": "stream",
     "text": [
      "inserire dei numeri positivi:  1 2 3 4 5\n"
     ]
    },
    {
     "data": {
      "text/plain": [
       "2.18978102189781"
      ]
     },
     "execution_count": 10,
     "metadata": {},
     "output_type": "execute_result"
    }
   ],
   "source": []
  },
  {
   "cell_type": "code",
   "execution_count": null,
   "id": "11964c9a-f338-4103-a29c-96e1c0eb2b39",
   "metadata": {},
   "outputs": [],
   "source": []
  }
 ],
 "metadata": {
  "kernelspec": {
   "display_name": "Python 3 (ipykernel)",
   "language": "python",
   "name": "python3"
  },
  "language_info": {
   "codemirror_mode": {
    "name": "ipython",
    "version": 3
   },
   "file_extension": ".py",
   "mimetype": "text/x-python",
   "name": "python",
   "nbconvert_exporter": "python",
   "pygments_lexer": "ipython3",
   "version": "3.12.4"
  }
 },
 "nbformat": 4,
 "nbformat_minor": 5
}
